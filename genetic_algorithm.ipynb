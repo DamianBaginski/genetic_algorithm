{
 "cells": [
  {
   "cell_type": "code",
   "execution_count": 9,
   "id": "8e3fe840-6026-4abd-9054-5eaf1a34a3af",
   "metadata": {},
   "outputs": [],
   "source": [
    "import random\n",
    "import heapq\n",
    "\n",
    "\n",
    "class TableGen:\n",
    "    \n",
    "    def __init__(self, no_of_people, relationships, no_in_pop):\n",
    "        self.no_of_people = no_of_people\n",
    "        self.no_in_pop = no_in_pop\n",
    "        self.table = self.create_first_pop()\n",
    "        self.relationships = relationships\n",
    "        self.no_of_relationships = self.generate_relationships()\n",
    "    \n",
    "    def generate_relationships(self):\n",
    "        rels = []\n",
    "        for i in range(self.relationships):\n",
    "            a = random.randint(0, self.no_of_people)\n",
    "            b = random.randint(0, self.no_of_people)\n",
    "            while a == b:\n",
    "                b = random.randint(0, self.no_of_people)\n",
    "            rels.append([a, b])\n",
    "        for pair in rels:\n",
    "            pair = sorted(pair)\n",
    "        return rels\n",
    "    \n",
    "    def create_table_set(self):\n",
    "        people = [-1 for i in range(self.no_of_people)]\n",
    "        for i in range(self.no_of_people):\n",
    "            random_seat = random.randint(0, self.no_of_people-1)\n",
    "            random_place = random.randint(0, self.no_of_people-1)\n",
    "            while random_seat in people:\n",
    "                random_seat = random.randint(0, self.no_of_people-1)\n",
    "            while people[random_place] != -1:\n",
    "                random_place = random.randint(0, self.no_of_people-1)\n",
    "            people[random_place] = random_seat\n",
    "        return people\n",
    "\n",
    "    def create_first_pop(self):\n",
    "        pop = []\n",
    "        for i in range(self.no_in_pop):\n",
    "            pop.append(self.create_table_set())\n",
    "        return pop\n",
    "\n",
    "    \n",
    "class GeneticAlgorithm:\n",
    "    \n",
    "    def __init__(self, no_in_pop, no_of_people, starting_table, relationships, mutation_rate, generations):\n",
    "        self.best_score = []\n",
    "        self.best_seating = []\n",
    "        self.table = starting_table\n",
    "        self.relationships = relationships\n",
    "        self.mutation_rate = mutation_rate\n",
    "        self.generations = generations\n",
    "        self.no_in_pop = no_in_pop\n",
    "        \n",
    "    def calculate_relationship_score(self):\n",
    "        pop_scores = []\n",
    "        for seating in self.table:\n",
    "            score = 0\n",
    "            for index, value in enumerate(seating):\n",
    "                if index != 0 and index != len(seating)-1:\n",
    "                    if sorted([seating[index], seating[index-1]]) in self.relationships:\n",
    "                        score += 1\n",
    "                    if sorted([seating[index], seating[index+1]]) in self.relationships:\n",
    "                        score += 1\n",
    "                elif index == 0:\n",
    "                    if sorted([seating[index], seating[index+1]]) in self.relationships:\n",
    "                        score += 1\n",
    "                    if sorted([seating[index], seating[len(seating)-1]]) in self.relationships:\n",
    "                        score += 1\n",
    "                else:\n",
    "                    if sorted([seating[index], seating[index-1]]) in self.relationships:\n",
    "                        score += 1\n",
    "                    if sorted([seating[index], seating[0]]) in self.relationships:\n",
    "                        score += 1\n",
    "            pop_scores.append(score)\n",
    "        self.best_score.append(max(pop_scores))\n",
    "        return pop_scores\n",
    "\n",
    "\n",
    "    def choose_best_indexes_from_pop(self):\n",
    "        pop_scores = self.calculate_relationship_score()\n",
    "        max_scores = heapq.nlargest(2, set(pop_scores))\n",
    "        max_indexes = [i for i, v in enumerate(pop_scores) if v == max_scores[0]]\n",
    "        self.best_seating.append(self.table[max_indexes[0]])\n",
    "        if len(max_indexes) >= 2:\n",
    "            max_indexes = max_indexes[:2]\n",
    "        elif len(max_indexes) == 1:\n",
    "            second_best_index = [i for i, v in enumerate(pop_scores) if v == max_scores[1]][0]\n",
    "            max_indexes = [max_indexes[0], second_best_index]\n",
    "        max_indexes = [int(i) for i in max_indexes]\n",
    "        return max_indexes\n",
    "\n",
    "    @staticmethod\n",
    "    def generate_child(parent1, parent2):\n",
    "        child, child_p1, child_p2 = [], [], []\n",
    "        rand_gene_1 = int(random.random() * len(parent1))\n",
    "        rand_gene_2 = int(random.random() * len(parent1))\n",
    "        start_gene = min(rand_gene_1, rand_gene_2)\n",
    "        end_gene = max(rand_gene_1, rand_gene_2)\n",
    "        for i in range(start_gene, end_gene):\n",
    "            child_p1.append(parent1[i])   \n",
    "        child_p2 = [item for item in parent2 if item not in child_p1]\n",
    "        child = child_p1 + child_p2\n",
    "        return child\n",
    "\n",
    "    def generate_population_of_children(self, parent1, parent2):\n",
    "        children = []\n",
    "        for i in range(self.no_in_pop):\n",
    "            children.append(self.generate_child(parent1, parent2))\n",
    "        return children\n",
    "\n",
    "    def mutate(self, child):\n",
    "        for index, value in enumerate(child):\n",
    "            if random.random() > self.mutation_rate:\n",
    "                ind_to_change = int(random.random() * len(child))\n",
    "                child[index], child[ind_to_change] = child[ind_to_change], child[index]\n",
    "        return child\n",
    "\n",
    "    def mutate_population(self, children):\n",
    "        mutated = []\n",
    "        for i in children:\n",
    "            mutated_child = self.mutate(i)\n",
    "            mutated.append(mutated_child)\n",
    "        self.table = mutated\n",
    "        return mutated\n",
    "        \n",
    "    def run_genetic_algorithm(self):\n",
    "        for i in range(self.generations):\n",
    "            selection = self.choose_best_indexes_from_pop()\n",
    "            parent1, parent2 = self.table[selection[0]], self.table[selection[1]]\n",
    "            children = self.generate_population_of_children(parent1, parent2)\n",
    "            mutated_children = self.mutate_population(children)\n",
    "    "
   ]
  },
  {
   "cell_type": "code",
   "execution_count": 24,
   "id": "c94f9707-2c54-478f-80c2-cdd00c3132fd",
   "metadata": {
    "tags": []
   },
   "outputs": [
    {
     "name": "stdout",
     "output_type": "stream",
     "text": [
      "[12, 18, 18, 20, 24, 26, 28, 28, 28, 30, 28, 28, 28, 30, 28, 32, 28, 34, 36, 38, 38, 40, 40, 42, 40, 38, 38, 40, 40, 40, 36, 36, 38, 38, 36, 34, 34, 36, 34, 34, 36, 36, 40, 38, 36, 36, 36, 36, 36, 40, 38, 36, 40, 38, 40, 44, 40, 40, 44, 42, 38, 38, 40, 40, 40, 38, 38, 38, 38, 36, 36, 34, 34, 34, 32, 32, 34, 34, 32, 34, 36, 34, 38, 36, 36, 34, 32, 32, 32, 36, 38, 38, 38, 40, 42, 40, 40, 40, 42, 42]\n",
      "[29, 94, 80, 35, 99, 12, 72, 87, 59, 66, 64, 18, 19, 96, 63, 30, 21, 40, 83, 10, 17, 45, 67, 15, 23, 44, 42, 58, 61, 6, 20, 33, 60, 68, 84, 2, 1, 86, 53, 37, 62, 81, 39, 98, 41, 88, 79, 0, 28, 77, 55, 4, 82, 76, 34, 11, 49, 32, 50, 95, 52, 31, 26, 85, 36, 89, 97, 51, 65, 38, 14, 46, 70, 74, 7, 71, 78, 9, 22, 3, 56, 24, 16, 5, 25, 90, 92, 73, 13, 57, 54, 43, 75, 47, 8, 91, 27, 48, 93, 69]\n"
     ]
    }
   ],
   "source": [
    "table = TableGen(100, 200, 100)\n",
    "ga = GeneticAlgorithm(table.no_in_pop, table.no_of_people, table.table, table.no_of_relationships, 0.92, 100)\n",
    "ga.run_genetic_algorithm()\n",
    "print(ga.best_score)\n",
    "print(ga.best_seating[-1])"
   ]
  },
  {
   "cell_type": "code",
   "execution_count": 258,
   "id": "7823d9a9-4a33-4d4b-99fb-1d35576bf92b",
   "metadata": {},
   "outputs": [
    {
     "name": "stdout",
     "output_type": "stream",
     "text": [
      "[6] [[9, 8, 3, 1, 6, 7, 5, 4, 2, 0]]\n",
      "[[8, 0], [9, 6], [3, 2], [5, 7], [1, 0], [4, 1], [7, 0], [3, 8], [5, 10], [5, 8], [10, 9], [10, 5], [7, 2], [6, 4], [1, 0], [6, 3], [0, 6], [1, 6], [6, 10], [9, 7]]\n"
     ]
    }
   ],
   "source": [
    "print(ga.best_score, ga.best_seating)\n",
    "print(table.no_of_relationships)"
   ]
  },
  {
   "cell_type": "code",
   "execution_count": null,
   "id": "559d3fb5-a509-431f-bddc-fc5f3da4ff0c",
   "metadata": {},
   "outputs": [],
   "source": [
    "m=[0,0,0,0,0,0,0,0]\n",
    "max_indexes = [i for i, v in enumerate(pop_scores) if v == m[0]]"
   ]
  },
  {
   "cell_type": "code",
   "execution_count": 45,
   "id": "a364b44f-8ed0-4e52-816c-9138268adbca",
   "metadata": {},
   "outputs": [
    {
     "data": {
      "text/plain": [
       "0"
      ]
     },
     "execution_count": 45,
     "metadata": {},
     "output_type": "execute_result"
    }
   ],
   "source": [
    "x = create_table_set(10)\n",
    "print()\n",
    "calculate_relationship_score(x, table.guest_relationships)"
   ]
  },
  {
   "cell_type": "code",
   "execution_count": 8,
   "id": "c61f9648-0447-4ffe-b7c2-be1cfd8ce460",
   "metadata": {},
   "outputs": [],
   "source": [
    "import random\n",
    "table = list(range(10))\n",
    "rels = []\n",
    "for i in range(5):\n",
    "    a = random.randint(0,5)\n",
    "    b = random.randint(0,5)\n",
    "    while a == b:\n",
    "        b = random.randint(0,5)\n",
    "    rels.append([a, b])"
   ]
  },
  {
   "cell_type": "code",
   "execution_count": 67,
   "id": "cb63d359-fb55-4970-9c6e-0fdd2154d817",
   "metadata": {},
   "outputs": [
    {
     "data": {
      "text/plain": [
       "[1, 1]"
      ]
     },
     "execution_count": 67,
     "metadata": {},
     "output_type": "execute_result"
    }
   ],
   "source": [
    "import heapq\n",
    "el=[1,1,1,1]\n",
    "z=heapq.nlargest(2, set(el))\n",
    "if len(z) == 1:\n",
    "    z = z+z\n",
    "zb"
   ]
  },
  {
   "cell_type": "code",
   "execution_count": 194,
   "id": "8a5902c7-f97e-4bde-87b7-d0341df7aadc",
   "metadata": {},
   "outputs": [
    {
     "ename": "TypeError",
     "evalue": "unsupported operand type(s) for +: 'range' and 'range'",
     "output_type": "error",
     "traceback": [
      "\u001b[1;31m---------------------------------------------------------------------------\u001b[0m",
      "\u001b[1;31mTypeError\u001b[0m                                 Traceback (most recent call last)",
      "\u001b[1;32m<ipython-input-194-7632d12c6b0f>\u001b[0m in \u001b[0;36m<module>\u001b[1;34m\u001b[0m\n\u001b[0;32m      1\u001b[0m \u001b[0mx\u001b[0m\u001b[1;33m=\u001b[0m\u001b[1;36m3\u001b[0m\u001b[1;33m\u001b[0m\u001b[1;33m\u001b[0m\u001b[0m\n\u001b[1;32m----> 2\u001b[1;33m \u001b[1;33m[\u001b[0m\u001b[0mi\u001b[0m \u001b[1;32mfor\u001b[0m \u001b[0mi\u001b[0m \u001b[1;32min\u001b[0m \u001b[0mrange\u001b[0m\u001b[1;33m(\u001b[0m\u001b[1;36m1\u001b[0m\u001b[1;33m,\u001b[0m \u001b[0mx\u001b[0m\u001b[1;33m)\u001b[0m \u001b[1;33m+\u001b[0m \u001b[0mrange\u001b[0m\u001b[1;33m(\u001b[0m\u001b[0mx\u001b[0m\u001b[1;33m+\u001b[0m\u001b[1;36m1\u001b[0m\u001b[1;33m,\u001b[0m \u001b[1;36m6\u001b[0m\u001b[1;33m)\u001b[0m\u001b[1;33m]\u001b[0m\u001b[1;33m\u001b[0m\u001b[1;33m\u001b[0m\u001b[0m\n\u001b[0m",
      "\u001b[1;31mTypeError\u001b[0m: unsupported operand type(s) for +: 'range' and 'range'"
     ]
    }
   ],
   "source": [
    "x=3\n",
    "[i for i in range(1, x) + range(x+1, 6)]"
   ]
  },
  {
   "cell_type": "code",
   "execution_count": 8,
   "id": "85ef0473-b2ce-4d29-b669-eea6320603b1",
   "metadata": {},
   "outputs": [
    {
     "name": "stdout",
     "output_type": "stream",
     "text": [
      "2\n",
      "1\n",
      "3\n",
      "2\n"
     ]
    }
   ],
   "source": [
    "x=[1,2,3]\n",
    "for i, v in enumerate(x):\n",
    "    if i == 1:\n",
    "        print(x[i])\n",
    "        print(x[i-1])\n",
    "        print(x[i+1])\n",
    "        print(len(x)-1)"
   ]
  },
  {
   "cell_type": "code",
   "execution_count": 171,
   "id": "5674aa87-1116-45b9-ba26-a0836364c8a8",
   "metadata": {},
   "outputs": [
    {
     "data": {
      "text/plain": [
       "[-1, -1, -1, -1]"
      ]
     },
     "execution_count": 171,
     "metadata": {},
     "output_type": "execute_result"
    }
   ],
   "source": [
    "[-1 for i in range(len([4,2,2,1]))]"
   ]
  },
  {
   "cell_type": "code",
   "execution_count": 129,
   "id": "52a51104-67bd-46cd-aecf-2d80e9db4c68",
   "metadata": {},
   "outputs": [
    {
     "data": {
      "text/plain": [
       "[1, 2, 4]"
      ]
     },
     "execution_count": 129,
     "metadata": {},
     "output_type": "execute_result"
    }
   ],
   "source": [
    "z = sorted([1,4,2])\n",
    "z"
   ]
  },
  {
   "cell_type": "code",
   "execution_count": 49,
   "id": "5fe855ca-357e-4c96-88b0-26df6470b29b",
   "metadata": {},
   "outputs": [
    {
     "name": "stdout",
     "output_type": "stream",
     "text": [
      "5 0\n"
     ]
    },
    {
     "data": {
      "text/plain": [
       "[0, 1, 2, 3, 4, 8, 7, 6, 5]"
      ]
     },
     "execution_count": 49,
     "metadata": {},
     "output_type": "execute_result"
    }
   ],
   "source": [
    "def breed(parent1, parent2):\n",
    "    child = []\n",
    "    childP1 = []\n",
    "    childP2 = []\n",
    "    \n",
    "    geneA = int(random.random() * len(parent1))\n",
    "    geneB = int(random.random() * len(parent1))\n",
    "    print(geneA, geneB)\n",
    "    startGene = min(geneA, geneB)\n",
    "    endGene = max(geneA, geneB)\n",
    "\n",
    "    for i in range(startGene, endGene):\n",
    "        childP1.append(parent1[i])\n",
    "        \n",
    "    childP2 = [item for item in parent2 if item not in childP1]\n",
    "\n",
    "    child = childP1 + childP2\n",
    "    return child\n",
    "\n",
    "\n",
    "breed([0,1,2,3,4,5,6,7,8],[8,7,6,5,4,3,2,1,0])"
   ]
  },
  {
   "cell_type": "code",
   "execution_count": 19,
   "id": "29097f56-236d-4b6f-8ca7-45ed296b3e10",
   "metadata": {},
   "outputs": [],
   "source": [
    "import geneticalgorithm as ga"
   ]
  },
  {
   "cell_type": "code",
   "execution_count": null,
   "id": "00197201-4ea8-4bfe-9ba6-aad147c8dcaf",
   "metadata": {},
   "outputs": [],
   "source": []
  }
 ],
 "metadata": {
  "kernelspec": {
   "display_name": "Python 3",
   "language": "python",
   "name": "python3"
  },
  "language_info": {
   "codemirror_mode": {
    "name": "ipython",
    "version": 3
   },
   "file_extension": ".py",
   "mimetype": "text/x-python",
   "name": "python",
   "nbconvert_exporter": "python",
   "pygments_lexer": "ipython3",
   "version": "3.8.8"
  }
 },
 "nbformat": 4,
 "nbformat_minor": 5
}
