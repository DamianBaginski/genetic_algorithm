{
 "cells": [
  {
   "cell_type": "code",
   "execution_count": 16,
   "id": "8e3fe840-6026-4abd-9054-5eaf1a34a3af",
   "metadata": {},
   "outputs": [],
   "source": [
    "import random\n",
    "import heapq\n",
    "from statistics import mean\n",
    "import matplotlib.pyplot as plt\n",
    "\n",
    "\n",
    "class TableGen:\n",
    "    \n",
    "    def __init__(self, no_of_people, relationships, no_in_pop):\n",
    "        self.no_of_people = no_of_people\n",
    "        self.no_in_pop = no_in_pop\n",
    "        self.table = self.create_first_pop()\n",
    "        self.relationships = relationships\n",
    "        self.no_of_relationships = self.generate_relationships()\n",
    "    \n",
    "    def generate_relationships(self):\n",
    "        rels = []\n",
    "        for i in range(self.relationships):\n",
    "            a = random.randint(0, self.no_of_people)\n",
    "            b = random.randint(0, self.no_of_people)\n",
    "            while a == b:\n",
    "                b = random.randint(0, self.no_of_people)\n",
    "            rels.append([a, b])\n",
    "        for pair in rels:\n",
    "            pair = sorted(pair)\n",
    "        return rels\n",
    "    \n",
    "    def create_table_set(self):\n",
    "        people = [-1 for i in range(self.no_of_people)]\n",
    "        for i in range(self.no_of_people):\n",
    "            random_seat = random.randint(0, self.no_of_people-1)\n",
    "            random_place = random.randint(0, self.no_of_people-1)\n",
    "            while random_seat in people:\n",
    "                random_seat = random.randint(0, self.no_of_people-1)\n",
    "            while people[random_place] != -1:\n",
    "                random_place = random.randint(0, self.no_of_people-1)\n",
    "            people[random_place] = random_seat\n",
    "        return people\n",
    "\n",
    "    def create_first_pop(self):\n",
    "        pop = []\n",
    "        for i in range(self.no_in_pop):\n",
    "            pop.append(self.create_table_set())\n",
    "        return pop\n",
    "\n",
    "    \n",
    "class GeneticAlgorithm:\n",
    "    \n",
    "    def __init__(self, no_in_pop, no_of_people, starting_table, relationships, mutation_rate, generations):\n",
    "        self.best_score = []\n",
    "        self.best_seating = []\n",
    "        self.table = starting_table\n",
    "        self.relationships = relationships\n",
    "        self.mutation_rate = mutation_rate\n",
    "        self.generations = generations\n",
    "        self.no_in_pop = no_in_pop\n",
    "        self.avg_score = []\n",
    "        \n",
    "    def calculate_relationship_score(self):\n",
    "        pop_scores = []\n",
    "        for seating in self.table:\n",
    "            score = 0\n",
    "            for index, value in enumerate(seating):\n",
    "                if index != 0 and index != len(seating)-1:\n",
    "                    if sorted([seating[index], seating[index-1]]) in self.relationships:\n",
    "                        score += 1\n",
    "                    if sorted([seating[index], seating[index+1]]) in self.relationships:\n",
    "                        score += 1\n",
    "                elif index == 0:\n",
    "                    if sorted([seating[index], seating[index+1]]) in self.relationships:\n",
    "                        score += 1\n",
    "                    if sorted([seating[index], seating[len(seating)-1]]) in self.relationships:\n",
    "                        score += 1\n",
    "                else:\n",
    "                    if sorted([seating[index], seating[index-1]]) in self.relationships:\n",
    "                        score += 1\n",
    "                    if sorted([seating[index], seating[0]]) in self.relationships:\n",
    "                        score += 1\n",
    "            pop_scores.append(score)\n",
    "        self.best_score.append(max(pop_scores))\n",
    "        self.avg_score.append(mean(pop_scores))\n",
    "        return pop_scores\n",
    "\n",
    "\n",
    "    def choose_best_indexes_from_pop(self):\n",
    "        pop_scores = self.calculate_relationship_score()\n",
    "        max_scores = heapq.nlargest(2, set(pop_scores))\n",
    "        max_indexes = [i for i, v in enumerate(pop_scores) if v == max_scores[0]]\n",
    "        self.best_seating.append(self.table[max_indexes[0]])\n",
    "        if len(max_indexes) >= 2:\n",
    "            max_indexes = max_indexes[:2]\n",
    "        elif len(max_indexes) == 1:\n",
    "            second_best_index = [i for i, v in enumerate(pop_scores) if v == max_scores[1]][0]\n",
    "            max_indexes = [max_indexes[0], second_best_index]\n",
    "        max_indexes = [int(i) for i in max_indexes]\n",
    "        return max_indexes\n",
    "\n",
    "    @staticmethod\n",
    "    def generate_child(parent1, parent2):\n",
    "        child, child_p1, child_p2 = [], [], []\n",
    "        rand_gene_1 = int(random.random() * len(parent1))\n",
    "        rand_gene_2 = int(random.random() * len(parent1))\n",
    "        start_gene = min(rand_gene_1, rand_gene_2)\n",
    "        end_gene = max(rand_gene_1, rand_gene_2)\n",
    "        for i in range(start_gene, end_gene):\n",
    "            child_p1.append(parent1[i])   \n",
    "        child_p2 = [item for item in parent2 if item not in child_p1]\n",
    "        child = child_p1 + child_p2\n",
    "        return child\n",
    "\n",
    "    def generate_population_of_children(self, parent1, parent2):\n",
    "        children = []\n",
    "        for i in range(self.no_in_pop):\n",
    "            children.append(self.generate_child(parent1, parent2))\n",
    "        return children\n",
    "\n",
    "    def mutate(self, child):\n",
    "        for index, value in enumerate(child):\n",
    "            if random.random() > self.mutation_rate:\n",
    "                ind_to_change = int(random.random() * len(child))\n",
    "                child[index], child[ind_to_change] = child[ind_to_change], child[index]\n",
    "        return child\n",
    "\n",
    "    def mutate_population(self, children):\n",
    "        mutated = []\n",
    "        for i in children:\n",
    "            mutated_child = self.mutate(i)\n",
    "            mutated.append(mutated_child)\n",
    "        self.table = mutated\n",
    "        return mutated\n",
    "        \n",
    "    def run_genetic_algorithm(self):\n",
    "        for i in range(self.generations):\n",
    "            selection = self.choose_best_indexes_from_pop()\n",
    "            parent1, parent2 = self.table[selection[0]], self.table[selection[1]]\n",
    "            children = self.generate_population_of_children(parent1, parent2)\n",
    "            mutated_children = self.mutate_population(children)\n"
   ]
  },
  {
   "cell_type": "code",
   "execution_count": 20,
   "id": "c94f9707-2c54-478f-80c2-cdd00c3132fd",
   "metadata": {
    "tags": []
   },
   "outputs": [
    {
     "name": "stdout",
     "output_type": "stream",
     "text": [
      "[12, 18, 18, 20, 26, 28, 30, 34, 34, 34, 34, 34, 32, 36, 34, 38, 40, 38, 40, 38]\n",
      "[44, 24, 23, 33, 54, 32, 73, 76, 90, 34, 41, 85, 60, 81, 63, 45, 42, 97, 50, 93, 17, 59, 46, 57, 77, 9, 16, 0, 75, 25, 15, 36, 40, 62, 58, 55, 84, 48, 53, 27, 28, 87, 29, 3, 4, 39, 30, 92, 83, 7, 51, 10, 80, 71, 18, 56, 2, 37, 86, 98, 14, 49, 35, 94, 88, 91, 38, 99, 8, 20, 65, 13, 1, 72, 31, 70, 61, 69, 66, 47, 67, 19, 89, 82, 78, 95, 68, 96, 64, 74, 79, 5, 22, 11, 26, 21, 52, 6, 12, 43]\n"
     ]
    }
   ],
   "source": [
    "table = TableGen(100, 200, 100)\n",
    "ga = GeneticAlgorithm(table.no_in_pop, table.no_of_people, table.table, table.no_of_relationships, 0.92, 20)\n",
    "ga.run_genetic_algorithm()\n",
    "print(ga.best_score)\n",
    "print(ga.best_seating[-1])"
   ]
  },
  {
   "cell_type": "code",
   "execution_count": 21,
   "id": "df93ea97-dab5-4ac9-88bd-c34ad5ca94ba",
   "metadata": {},
   "outputs": [
    {
     "data": {
      "text/plain": [
       "[<matplotlib.lines.Line2D at 0x1c387a500d0>]"
      ]
     },
     "execution_count": 21,
     "metadata": {},
     "output_type": "execute_result"
    },
    {
     "data": {
      "image/png": "[encoded data removed]",
      "text/plain": [
       "<Figure size 432x288 with 1 Axes>"
      ]
     },
     "metadata": {
      "needs_background": "light"
     },
     "output_type": "display_data"
    }
   ],
   "source": [
    "plt.plot(ga.best_score)\n",
    "plt.xlabel('generations')"
   ]
  },
  {
   "cell_type": "code",
   "execution_count": 22,
   "id": "dc0d480f-ff8a-44bd-9908-92f75833b58f",
   "metadata": {},
   "outputs": [
    {
     "data": {
      "text/plain": [
       "[<matplotlib.lines.Line2D at 0x1c387aa7190>]"
      ]
     },
     "execution_count": 22,
     "metadata": {},
     "output_type": "execute_result"
    },
    {
     "data": {
      "image/png": "[encoded data removed]",
      "text/plain": [
       "<Figure size 432x288 with 1 Axes>"
      ]
     },
     "metadata": {
      "needs_background": "light"
     },
     "output_type": "display_data"
    }
   ],
   "source": [
    "plt.plot(ga.avg_score)"
   ]
  },
  {
   "cell_type": "code",
   "execution_count": null,
   "id": "a943ed04-9307-4d8b-8a5f-57e480aa288e",
   "metadata": {},
   "outputs": [],
   "source": []
  }
 ],
 "metadata": {
  "kernelspec": {
   "display_name": "Python 3",
   "language": "python",
   "name": "python3"
  },
  "language_info": {
   "codemirror_mode": {
    "name": "ipython",
    "version": 3
   },
   "file_extension": ".py",
   "mimetype": "text/x-python",
   "name": "python",
   "nbconvert_exporter": "python",
   "pygments_lexer": "ipython3",
   "version": "3.8.8"
  }
 },
 "nbformat": 4,
 "nbformat_minor": 5
}
